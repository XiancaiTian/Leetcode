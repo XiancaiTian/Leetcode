{
 "cells": [
  {
   "cell_type": "markdown",
   "metadata": {},
   "source": [
    "### N- Queen: list of list solution"
   ]
  },
  {
   "cell_type": "code",
   "execution_count": 196,
   "metadata": {},
   "outputs": [
    {
     "data": {
      "text/plain": [
       "[[['.', '.', 'Q', '.'],\n",
       "  ['Q', '.', '.', '.'],\n",
       "  ['.', '.', '.', 'Q'],\n",
       "  ['.', 'Q', '.', '.']],\n",
       " [['.', 'Q', '.', '.'],\n",
       "  ['.', '.', '.', 'Q'],\n",
       "  ['Q', '.', '.', '.'],\n",
       "  ['.', '.', 'Q', '.']]]"
      ]
     },
     "execution_count": 196,
     "metadata": {},
     "output_type": "execute_result"
    }
   ],
   "source": [
    "import copy\n",
    "class Solution:\n",
    "    def solveNQueens(self, n: int):\n",
    "        def available(x, y):\n",
    "            return not rows[x] and not hill_diagonals[x + y] and not dale_diagonals[x - y + n - 1]\n",
    "        \n",
    "        # 如果 isput=True, 把Q放進curr, 並且update已佔領的紀錄rows, hill_diagonals, dale_diagonals\n",
    "        # 如果 isput=False, 把Q移除curr, 並且delete已佔領的紀錄rows, hill_diagonals, dale_diagonals\n",
    "        def updateBoard(x, y, is_put):\n",
    "            \n",
    "            # 最直觀的寫法是 curr[x][y] = 'Q' if is_put else '.'\n",
    "            # 但是因為我們的curr是list of string, not list of list\n",
    "            # 所以會有問題: 'str' object does not support item assignment in Python\n",
    "            # 改寫成以下\n",
    "            curr[x][y] = 'Q' if is_put else '.'\n",
    "            \n",
    "            # 佔領紀錄\n",
    "            rows[x] = is_put\n",
    "            hill_diagonals[x + y] = is_put\n",
    "            dale_diagonals[x - y + n - 1] = is_put\n",
    "            return curr\n",
    "        \n",
    "        # j: 紀錄dfs深度及皇后數量(可變); n: 皇后數量(目標)\n",
    "        def n_queen(j, ans):\n",
    "            # 如果走到最後一個column\n",
    "            if j == n:\n",
    "                ans.append(copy.deepcopy(curr)) ### WHY\n",
    "                return\n",
    "            \n",
    "            # 走過每一個row\n",
    "            for i in range(0, n):\n",
    "                if not available(i, j): \n",
    "                    continue\n",
    "                updateBoard(i, j, True)\n",
    "                n_queen(j+1, ans)\n",
    "                updateBoard(i, j, False)\n",
    "        \n",
    "        # 準備current matrix 記錄可行的答案\n",
    "        curr = [['.' for i in range(n)] for j in range(n)] \n",
    "        \n",
    "        # 紀錄以前是不是有出現過row==0的queen, 相當於檢查這條row=0的column\n",
    "        rows = [False for i in range(n)]\n",
    "        \n",
    "        # 紀錄對角線是否被佔領了\n",
    "        hill_diagonals = [False] * (2 * n - 1)\n",
    "        dale_diagonals = [False] * (2 * n - 1)\n",
    "        \n",
    "        ans = []\n",
    "        n_queen(0, ans)\n",
    "        return ans\n",
    "s = Solution()\n",
    "n = 4\n",
    "s.solveNQueens(n)"
   ]
  },
  {
   "cell_type": "markdown",
   "metadata": {},
   "source": [
    "### N- Queen: list of string solution"
   ]
  },
  {
   "cell_type": "code",
   "execution_count": 200,
   "metadata": {},
   "outputs": [
    {
     "data": {
      "text/plain": [
       "[['..Q.', 'Q...', '...Q', '.Q..'], ['.Q..', '...Q', 'Q...', '..Q.']]"
      ]
     },
     "execution_count": 200,
     "metadata": {},
     "output_type": "execute_result"
    }
   ],
   "source": [
    "class Solution:\n",
    "    def solveNQueens(self, n: int):\n",
    "        def available(x, y):\n",
    "            return not rows[x] and not hill_diagonals[x + y] and not dale_diagonals[x - y + n - 1]\n",
    "        \n",
    "        # 如果 isput=True, 把Q放進curr, 並且update已佔領的紀錄rows, hill_diagonals, dale_diagonals\n",
    "        # 如果 isput=False, 把Q移除curr, 並且delete已佔領的紀錄rows, hill_diagonals, dale_diagonals\n",
    "        def updateBoard(x, y, is_put):\n",
    "            \n",
    "            # 最直觀的寫法是 curr[x][y] = 'Q' if is_put else '.'\n",
    "            # 但是因為我們的curr是 list of string, not list of list\n",
    "            # 所以會有問題: 'str' object does not support item assignment in Python\n",
    "            # 改寫成以下\n",
    "            word = 'Q' if is_put else '.'\n",
    "            curr[x] = curr[x][:y] + word + curr[x][y+1:]\n",
    "            \n",
    "            # 佔領紀錄\n",
    "            rows[x] = is_put\n",
    "            hill_diagonals[x + y] = is_put\n",
    "            dale_diagonals[x - y + n - 1] = is_put\n",
    "            return curr\n",
    "        \n",
    "        # j: 紀錄dfs深度及皇后數量(可變); n: 皇后數量(目標)\n",
    "        def n_queen(j, ans):\n",
    "            # 如果走到最後一個column\n",
    "            if j == n:\n",
    "                ans.append(curr[:]) ### WHY\n",
    "                return\n",
    "            \n",
    "            # 走過每一個row\n",
    "            for i in range(0, n):\n",
    "                if not available(i, j): \n",
    "                    continue\n",
    "                updateBoard(i, j, True)\n",
    "                n_queen(j+1, ans)\n",
    "                updateBoard(i, j, False)\n",
    "        \n",
    "        # 準備current matrix 記錄可行的答案\n",
    "        curr = ['.'*n for j in range(n)] \n",
    "        \n",
    "        # 紀錄以前是不是有出現過row==0的queen, 相當於檢查這條row=0的column\n",
    "        rows = [False for i in range(n)]\n",
    "        \n",
    "        # 紀錄對角線是否被佔領了\n",
    "        hill_diagonals = [False] * (2 * n - 1)\n",
    "        dale_diagonals = [False] * (2 * n - 1)\n",
    "        \n",
    "        ans = []\n",
    "        n_queen(0, ans)\n",
    "        return ans\n",
    "s = Solution()\n",
    "n = 4\n",
    "s.solveNQueens(n)"
   ]
  },
  {
   "cell_type": "markdown",
   "metadata": {},
   "source": [
    "對角線換算 <br>\n",
    "準備(2*n-1)個位子來記錄\\方向的diagonal <br>\n",
    "第一種diagonal: x+y <br>\n",
    "`\n",
    "[[0, 1, 2, 3], \n",
    " [1, 2, 3, 4], \n",
    " [2, 3, 4, 5], \n",
    " [3, 4, 5, 6]]\n",
    "`\n",
    "\n",
    "準備(2*n-1)個位子來記錄/方向的diagonal <br>\n",
    "第二種diagonal: x+n-y-1 <br>\n",
    "\n",
    "`\n",
    "[[3, 4, 5, 6], \n",
    " [2, 3, 4, 5], \n",
    " [1, 2, 3, 4], \n",
    " [0, 1, 2, 3]]\n",
    "`"
   ]
  },
  {
   "cell_type": "markdown",
   "metadata": {},
   "source": [
    "### 其他發現"
   ]
  },
  {
   "cell_type": "code",
   "execution_count": 166,
   "metadata": {},
   "outputs": [
    {
     "name": "stdout",
     "output_type": "stream",
     "text": [
      "[[False, False, False, 'Q'], [False, False, False, False], [False, False, False, False], [False, False, False, False]]\n",
      "[[False, False, False, 'Q'], [False, False, False, 'Q'], [False, False, False, 'Q'], [False, False, False, 'Q']]\n"
     ]
    }
   ],
   "source": [
    "### 正常情況\n",
    "curr = [[False for i in range(n)] for j in range(n)]\n",
    "curr[0][3] = 'Q'\n",
    "print(curr)\n",
    "\n",
    "###會有 issue\n",
    "curr = [[False]* n] * n \n",
    "curr[0][3] = 'Q'\n",
    "print(curr)"
   ]
  },
  {
   "cell_type": "markdown",
   "metadata": {},
   "source": [
    "### Q52: Return number of possible solutions\n",
    "\n",
    "當ans是int時，一定要return ans; 不然沒辦法(不知道原因)"
   ]
  },
  {
   "cell_type": "code",
   "execution_count": null,
   "metadata": {},
   "outputs": [],
   "source": [
    "class Solution:\n",
    "    def totalNQueens(self, n: int) -> int:\n",
    "        def available(x, y):\n",
    "            return not rows[x] and not hill_diagonals[x + y] and not dale_diagonals[x - y + n - 1]\n",
    "        \n",
    "        # 如果 isput=True, 把Q放進curr, 並且update已佔領的紀錄rows, hill_diagonals, dale_diagonals\n",
    "        # 如果 isput=False, 把Q移除curr, 並且delete已佔領的紀錄rows, hill_diagonals, dale_diagonals\n",
    "        def updateBoard(x, y, is_put):\n",
    "            \n",
    "            # 最直觀的寫法是 curr[x][y] = 'Q' if is_put else '.'\n",
    "            # 但是因為我們的curr是 list of string, not list of list\n",
    "            # 所以會有問題: 'str' object does not support item assignment in Python\n",
    "            # 改寫成以下\n",
    "            word = 'Q' if is_put else '.'\n",
    "            curr[x] = curr[x][:y] + word + curr[x][y+1:]\n",
    "            \n",
    "            # 佔領紀錄\n",
    "            rows[x] = is_put\n",
    "            hill_diagonals[x + y] = is_put\n",
    "            dale_diagonals[x - y + n - 1] = is_put\n",
    "            return curr\n",
    "        \n",
    "        # j: 紀錄dfs深度及皇后數量(可變); n: 皇后數量(目標)\n",
    "        def n_queen(j, ans):\n",
    "            # 如果走到最後一個column\n",
    "            if j == n:\n",
    "                ans += 1\n",
    "                return ans ### 如果要算count 就一定要return \n",
    "            \n",
    "            # 走過每一個row\n",
    "            for i in range(0, n):\n",
    "                if not available(i, j): \n",
    "                    continue\n",
    "                updateBoard(i, j, True)\n",
    "                ans = n_queen(j+1, ans)\n",
    "                updateBoard(i, j, False)\n",
    "        \n",
    "            return ans ### 如果要算count 就一定要return \n",
    "        \n",
    "        \n",
    "        # 準備current matrix 記錄可行的答案\n",
    "        curr = ['.'*n for j in range(n)] \n",
    "        \n",
    "        # 紀錄以前是不是有出現過row==0的queen, 相當於檢查這條row=0的column\n",
    "        rows = [False for i in range(n)]\n",
    "        \n",
    "        # 紀錄對角線是否被佔領了\n",
    "        hill_diagonals = [False] * (2 * n - 1)\n",
    "        dale_diagonals = [False] * (2 * n - 1)\n",
    "        \n",
    "        \n",
    "        return n_queen(j=0, ans=0)"
   ]
  }
 ],
 "metadata": {
  "kernelspec": {
   "display_name": "Python 3",
   "language": "python",
   "name": "python3"
  },
  "language_info": {
   "codemirror_mode": {
    "name": "ipython",
    "version": 3
   },
   "file_extension": ".py",
   "mimetype": "text/x-python",
   "name": "python",
   "nbconvert_exporter": "python",
   "pygments_lexer": "ipython3",
   "version": "3.7.4"
  }
 },
 "nbformat": 4,
 "nbformat_minor": 4
}
