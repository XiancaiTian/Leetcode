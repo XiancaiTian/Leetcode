{
 "cells": [
  {
   "cell_type": "markdown",
   "metadata": {},
   "source": [
    "### 失敗的解法\n",
    "從任一O開始，如果一直沒有碰到邊，就label as X"
   ]
  },
  {
   "cell_type": "code",
   "execution_count": 1,
   "metadata": {},
   "outputs": [],
   "source": [
    "class Solution:\n",
    "    def solve(self, board) -> None:\n",
    "        \"\"\"\n",
    "        Do not return anything, modify board in-place instead.\n",
    "        \"\"\"\n",
    "        \n",
    "        if not board: \n",
    "            return board\n",
    "        \n",
    "        def dfs(i, j, reached_wall):\n",
    "            if reached_wall:\n",
    "                return True\n",
    "                \n",
    "            if i < 0 or i >= n_rows or j < 0 or j >= n_cols:\n",
    "                return True\n",
    "\n",
    "            if board[i][j]== 'X':# or board[i][j]== 'Y':\n",
    "                return False\n",
    "            \n",
    "            # label as surrounded \n",
    "            board[i][j] = 'X'\n",
    "            \n",
    "            reached_wall = dfs(i+1, j  , reached_wall)\n",
    "            reached_wall = dfs(i  , j+1, reached_wall)\n",
    "            reached_wall = dfs(i-1, j  , reached_wall)\n",
    "            reached_wall = dfs(i  , j-1, reached_wall)\n",
    "\n",
    "            # label as un-surrounded\n",
    "            if reached_wall:\n",
    "                board[i][j] = 'O'\n",
    "                \n",
    "                \n",
    "        n_rows, n_cols = len(board), len(board[0])\n",
    "        \n",
    "        for i in range(n_rows):\n",
    "            for j in range(n_cols):\n",
    "                if board[i][j] == 'O':\n",
    "                    dfs(i, j, False)\n"
   ]
  },
  {
   "cell_type": "markdown",
   "metadata": {},
   "source": [
    "我試著在recursion完成的當下得到最終答案 但是卻無法成功\n",
    "失敗於: [[\"O\",\"O\",\"O\"],[\"O\",\"O\",\"O\"],[\"O\",\"O\",\"O\"]] 這個case,\n",
    "我的答案會變成 : [[\"O\",\"O\",\"O\"],[\"O\",\"X\",\"O\"],[\"O\",\"O\",\"O\"]]"
   ]
  },
  {
   "cell_type": "markdown",
   "metadata": {},
   "source": [
    "因為其他位子都已經填成O的時候，我們就會無法判斷 i=1, j=1的情境下，是否是Surrounded..."
   ]
  },
  {
   "cell_type": "markdown",
   "metadata": {},
   "source": [
    "### 可行的解法：用一個Dummy Sign"
   ]
  },
  {
   "cell_type": "markdown",
   "metadata": {},
   "source": [
    "從邊框開始，標註有碰到邊的。最後把標註修正。"
   ]
  },
  {
   "cell_type": "code",
   "execution_count": 2,
   "metadata": {},
   "outputs": [],
   "source": [
    "class Solution:\n",
    "    def solve(self, board) -> None:\n",
    "        \"\"\" \n",
    "        Do not return anything, modify board in-place instead.\n",
    "        \"\"\"\n",
    "        \n",
    "        if not board: \n",
    "            return board\n",
    "        \n",
    "        def dfs(i, j):\n",
    "            if i < 0 or i >= n_rows or j < 0 or j >= n_cols:\n",
    "                return\n",
    "\n",
    "            if board[i][j] != 'O':\n",
    "                return\n",
    "            \n",
    "            board[i][j] = 'Y'\n",
    "            dfs(i+1, j  )\n",
    "            dfs(i-1, j  )\n",
    "            dfs(i  , j+1)\n",
    "            dfs(i  , j-1)\n",
    "                \n",
    "        n_rows, n_cols = len(board), len(board[0])\n",
    "\n",
    "        for i in range(n_rows):\n",
    "            for j in range(n_cols):\n",
    "                if board[i][j] == 'O' and i == 0 or i == n_rows-1 or j == 0 or j == n_cols-1:\n",
    "                    dfs(i, j)\n",
    "                    \n",
    "        for i in range(n_rows):\n",
    "            for j in range(n_cols):\n",
    "                board[i][j] = 'X' if board[i][j] == 'O' else board[i][j]\n",
    "                board[i][j] = 'O' if board[i][j] == 'Y' else board[i][j]"
   ]
  },
  {
   "cell_type": "code",
   "execution_count": null,
   "metadata": {},
   "outputs": [],
   "source": []
  }
 ],
 "metadata": {
  "kernelspec": {
   "display_name": "Python 3",
   "language": "python",
   "name": "python3"
  },
  "language_info": {
   "codemirror_mode": {
    "name": "ipython",
    "version": 3
   },
   "file_extension": ".py",
   "mimetype": "text/x-python",
   "name": "python",
   "nbconvert_exporter": "python",
   "pygments_lexer": "ipython3",
   "version": "3.7.4"
  }
 },
 "nbformat": 4,
 "nbformat_minor": 4
}
